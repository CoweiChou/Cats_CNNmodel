{
  "nbformat": 4,
  "nbformat_minor": 0,
  "metadata": {
    "colab": {
      "provenance": [],
      "include_colab_link": true
    },
    "kernelspec": {
      "name": "python3",
      "display_name": "Python 3"
    },
    "language_info": {
      "name": "python"
    }
  },
  "cells": [
    {
      "cell_type": "markdown",
      "metadata": {
        "id": "view-in-github",
        "colab_type": "text"
      },
      "source": [
        "<a href=\"https://colab.research.google.com/github/CoweiChou/Cats_CNNmodel/blob/main/model%2Bdatabase_json.ipynb\" target=\"_parent\"><img src=\"https://colab.research.google.com/assets/colab-badge.svg\" alt=\"Open In Colab\"/></a>"
      ]
    },
    {
      "cell_type": "code",
      "execution_count": null,
      "metadata": {
        "colab": {
          "base_uri": "https://localhost:8080/"
        },
        "id": "p6_Zi-mgLnHT",
        "outputId": "baf1eab6-3174-4d92-9a42-0ed5c14f4580"
      },
      "outputs": [
        {
          "output_type": "stream",
          "name": "stdout",
          "text": [
            "Collecting pymysql\n",
            "  Downloading PyMySQL-1.1.0-py3-none-any.whl (44 kB)\n",
            "\u001b[?25l     \u001b[90m━━━━━━━━━━━━━━━━━━━━━━━━━━━━━━━━━━━━━━━━\u001b[0m \u001b[32m0.0/44.8 kB\u001b[0m \u001b[31m?\u001b[0m eta \u001b[36m-:--:--\u001b[0m\r\u001b[2K     \u001b[90m━━━━━━━━━━━━━━━━━━━━━━━━━━━━━━━━━━━━━━━━\u001b[0m \u001b[32m44.8/44.8 kB\u001b[0m \u001b[31m1.1 MB/s\u001b[0m eta \u001b[36m0:00:00\u001b[0m\n",
            "\u001b[?25hInstalling collected packages: pymysql\n",
            "Successfully installed pymysql-1.1.0\n"
          ]
        }
      ],
      "source": [
        "!pip install pymysql"
      ]
    },
    {
      "cell_type": "markdown",
      "source": [
        "## 辨識花色回傳5筆資料庫資料 json"
      ],
      "metadata": {
        "id": "xj6oO6j2L-w-"
      }
    },
    {
      "cell_type": "code",
      "source": [
        "import pymysql\n",
        "import requests\n",
        "import json\n",
        "\n",
        "c1 = pymysql.connect(\n",
        "    host = \"\",\n",
        "    user = \"root\",\n",
        "    passwd = \"\",\n",
        "    charset = \"utf8\",\n",
        "    port = int(\"3306\"),\n",
        "    db = \"my_database\",\n",
        ")\n",
        "p1 = c1.cursor()\n",
        "table_name = \"catdata02\"\n",
        "\n",
        "def new_table(cursor, response_data):\n",
        "    sql = \"SELECT * FROM `catdata02` WHERE species = %s\"\n",
        "    cursor.execute(sql, (response_data,))\n",
        "    results = cursor.fetchmany(5)  # 只取前五筆資料\n",
        "    data = []\n",
        "    for row in results:\n",
        "        data.append({\n",
        "            \"id\": row[0],\n",
        "            \"name\": row[1],\n",
        "            \"species\": row[2],\n",
        "            \"type\": row[3],\n",
        "            \"gender\": row[4],\n",
        "            \"size\": row[5],\n",
        "            \"cat_color\": row[6],\n",
        "            \"age\": row[7],\n",
        "            \"sterilization\": row[8],\n",
        "            \"address\": row[9],\n",
        "            \"url\": row[10],\n",
        "            \"image_url\": row[11],\n",
        "            \"location\": row[12],\n",
        "            \"details\": row[13],\n",
        "            \"image_name\": row[14]\n",
        "        })\n",
        "    return data\n",
        "\n",
        "# 傳入一張img.jpeg圖片\n",
        "with open('img.jpeg', 'rb') as f:\n",
        "    r = requests.post('http://34.72.174.60:5000/predict', files={'file': f})\n",
        "\n",
        "response_data1 = r.json()\n",
        "table_data = new_table(p1, response_data1)\n",
        "\n",
        "# 關閉資料庫游標和連線\n",
        "p1.close()\n",
        "c1.close()\n",
        "\n",
        "output_json = json.dumps(table_data, ensure_ascii=False, indent=4)\n",
        "print(output_json)\n"
      ],
      "metadata": {
        "colab": {
          "base_uri": "https://localhost:8080/"
        },
        "id": "mB5w585rLvsj",
        "outputId": "1eb91b86-d4d2-45df-c114-d2b152213d96"
      },
      "execution_count": null,
      "outputs": [
        {
          "output_type": "stream",
          "name": "stdout",
          "text": [
            "[\n",
            "    {\n",
            "        \"id\": 23,\n",
            "        \"name\": \"查理\",\n",
            "        \"species\": \"黑白貓\",\n",
            "        \"type\": \"貓\",\n",
            "        \"gender\": \"公貓\",\n",
            "        \"size\": \"中型\",\n",
            "        \"cat_color\": \"黑白乳牛色\",\n",
            "        \"age\": \"成貓\",\n",
            "        \"sterilization\": \"已結紮\",\n",
            "        \"address\": \"高雄市 三民區\",\n",
            "        \"url\": \"https://wepet.tw/領養資訊-230129085805151812870\",\n",
            "        \"image_url\": \"https://wepet.tw/storage/adopt/adopt_230129085805151812870_937953885.jpg\",\n",
            "        \"location\": \"南部\",\n",
            "        \"details\": \"已結紮，有晶片，身體很健康，疫苗都有按時施打，今年1月才剛帶去打疫苗，很溫馴 討食時特別黏人，貓咪目前在高雄，其他地區可以討論，希望找到收入穩定的家庭給他一個好的環境，不需簽切結書，但需要一起帶貓咪去動保處辦理轉讓登記，後續追蹤半年 一個月給一次照片即可。,會提供貓咪現在使用的飼料、貓砂及玩具等\",\n",
            "        \"image_name\": \"adopt_230129085805151812870_937953885.jpg\"\n",
            "    },\n",
            "    {\n",
            "        \"id\": 40,\n",
            "        \"name\": \"屁屁\",\n",
            "        \"species\": \"黑白貓\",\n",
            "        \"type\": \"貓\",\n",
            "        \"gender\": \"公貓\",\n",
            "        \"size\": \"中型\",\n",
            "        \"cat_color\": \"黑白\",\n",
            "        \"age\": \"幼貓\",\n",
            "        \"sterilization\": \"已結紮\",\n",
            "        \"address\": \"高雄市 楠梓區\",\n",
            "        \"url\": \"https://wepet.tw/領養資訊-221213094747921512696\",\n",
            "        \"image_url\": \"https://wepet.tw/storage/adopt/adopt_221213094747921512696_2896196067.jpg\",\n",
            "        \"location\": \"南部\",\n",
            "        \"details\": \"一歲多，愛玩，熟了會親人\",\n",
            "        \"image_name\": \"adopt_221213094747921512696_2896196067.jpg\"\n",
            "    },\n",
            "    {\n",
            "        \"id\": 48,\n",
            "        \"name\": \"點點\",\n",
            "        \"species\": \"黑白貓\",\n",
            "        \"type\": \"貓\",\n",
            "        \"gender\": \"母貓\",\n",
            "        \"size\": \"小型\",\n",
            "        \"cat_color\": \"黑白\",\n",
            "        \"age\": \"幼貓\",\n",
            "        \"sterilization\": \"未結紮\",\n",
            "        \"address\": \"台中市 南區\",\n",
            "        \"url\": \"https://wepet.tw/領養資訊-221112190320601812577\",\n",
            "        \"image_url\": \"https://wepet.tw/storage/adopt/adopt_221112190320601812577_7818751000.jpg\",\n",
            "        \"location\": \"中部\",\n",
            "        \"details\": \"昨天在路上撿到的貓貓,,台中送養,可愛的小賓士-點點（小女生）,醫生說目前五到六個月大,乖巧、愛撒嬌很親人給抱給嚕,已經洗澡驅蟲了～,眼睛受傷（但是不用擔心我會幫他把眼睛治療好,下週會安排眼睛手術+打預防針,希望可以找到有緣的人領養,也希望大家可以一起幫我轉發分享謝謝\",\n",
            "        \"image_name\": \"adopt_221112190320601812577_7818751000.jpg\"\n",
            "    },\n",
            "    {\n",
            "        \"id\": 71,\n",
            "        \"name\": \"帥哥\",\n",
            "        \"species\": \"黑白貓\",\n",
            "        \"type\": \"貓\",\n",
            "        \"gender\": \"公貓\",\n",
            "        \"size\": \"小型\",\n",
            "        \"cat_color\": \"賓士貓\",\n",
            "        \"age\": \"成貓\",\n",
            "        \"sterilization\": \"已結紮\",\n",
            "        \"address\": \"台北市 信義區\",\n",
            "        \"url\": \"https://wepet.tw/領養資訊-220830074224274612321\",\n",
            "        \"image_url\": \"https://wepet.tw/storage/adopt/adopt_220830074224274612321_6546816544.jpg\",\n",
            "        \"location\": \"北部\",\n",
            "        \"details\": \"他是ㄧ隻一歲多的公貓，已結紮，目前非常活潑好動，也很親近人。,,希望能幫他找到能夠陪伴他的好室友（主人）。\",\n",
            "        \"image_name\": \"adopt_220830074224274612321_6546816544.jpg\"\n",
            "    },\n",
            "    {\n",
            "        \"id\": 94,\n",
            "        \"name\": \"皮蛋\",\n",
            "        \"species\": \"黑白貓\",\n",
            "        \"type\": \"貓\",\n",
            "        \"gender\": \"母貓\",\n",
            "        \"size\": \"中型\",\n",
            "        \"cat_color\": \"黑白混色\",\n",
            "        \"age\": \"幼貓\",\n",
            "        \"sterilization\": \"未結紮\",\n",
            "        \"address\": \"桃園市 桃園區\",\n",
            "        \"url\": \"https://wepet.tw/領養資訊-220509064504941511893\",\n",
            "        \"image_url\": \"https://wepet.tw/storage/adopt/adopt_220509064504941511893_4642849904.png\",\n",
            "        \"location\": \"北部\",\n",
            "        \"details\": \"牠是我撿到的流浪貓，那時約兩週大，還有一隻叫滷蛋是哥哥（另外刊登），目前都是9個月大囉！個性乖巧黏人聽話，食量也不大，愛喝水，但因本人目前因工作忙碌，較沒時間陪伴，希望能幫他們找到好心人收養，並給予好的生活環境。\",\n",
            "        \"image_name\": \"adopt_220509064504941511893_4642849904.png\"\n",
            "    }\n",
            "]\n"
          ]
        }
      ]
    },
    {
      "cell_type": "markdown",
      "source": [
        "## 辨識相似度回傳3筆資料庫資料 json"
      ],
      "metadata": {
        "id": "Oa4AjLewMCsz"
      }
    },
    {
      "cell_type": "code",
      "source": [
        "import pymysql\n",
        "import requests\n",
        "import json\n",
        "\n",
        "c1 = pymysql.connect(\n",
        "    host = \"\",\n",
        "    user = \"root\",\n",
        "    passwd = \"\",\n",
        "    charset = \"utf8\",\n",
        "    port = int(\"3306\"),\n",
        "    db = \"my_database\",\n",
        ")\n",
        "p1 = c1.cursor()\n",
        "table_name = \"catdata02\"\n",
        "\n",
        "def find_records_by_partial_image_url(partial_image_url):\n",
        "    query = f\"SELECT * FROM `catdata02` WHERE `image_url` LIKE '%{partial_image_url}%'\"\n",
        "    p1.execute(query)\n",
        "    results = p1.fetchall()\n",
        "    return results\n",
        "\n",
        "# 傳入一張img.jpeg圖片\n",
        "with open('img.jpeg', 'rb') as f:\n",
        "    r = requests.post('http://34.72.174.60:5000/similar_images', files={'file': f})\n",
        "\n",
        "response_data2 = r.json()\n",
        "\n",
        "\n",
        "matching_records = []\n",
        "for partial_image_url in response_data2:\n",
        "    matching_records.extend(find_records_by_partial_image_url(partial_image_url))\n",
        "\n",
        "\n",
        "data = []\n",
        "for row in matching_records:\n",
        "    data.append({\n",
        "        \"id\": row[0],\n",
        "        \"name\": row[1],\n",
        "        \"species\": row[2],\n",
        "        \"type\": row[3],\n",
        "        \"gender\": row[4],\n",
        "        \"size\": row[5],\n",
        "        \"cat_color\": row[6],\n",
        "        \"age\": row[7],\n",
        "        \"sterilization\": row[8],\n",
        "        \"address\": row[9],\n",
        "        \"url\": row[10],\n",
        "        \"image_url\": row[11],\n",
        "        \"location\": row[12],\n",
        "        \"details\": row[13],\n",
        "        \"image_name\": row[14]\n",
        "    })\n",
        "\n",
        "\n",
        "output_json = json.dumps(data, ensure_ascii=False, indent=4)\n",
        "print(output_json)\n",
        "\n",
        "# 關閉資料庫游標和連線\n",
        "p1.close()\n",
        "c1.close()"
      ],
      "metadata": {
        "colab": {
          "base_uri": "https://localhost:8080/"
        },
        "id": "qmD2jIQHLx2z",
        "outputId": "edfd8e88-938a-4903-d655-b7fab7024973"
      },
      "execution_count": null,
      "outputs": [
        {
          "output_type": "stream",
          "name": "stdout",
          "text": [
            "[\n",
            "    {\n",
            "        \"id\": 75,\n",
            "        \"name\": \"小橘子\",\n",
            "        \"species\": \"橘貓\",\n",
            "        \"type\": \"貓\",\n",
            "        \"gender\": \"公貓\",\n",
            "        \"size\": \"中型\",\n",
            "        \"cat_color\": \"橘白色\",\n",
            "        \"age\": \"成貓\",\n",
            "        \"sterilization\": \"未結紮\",\n",
            "        \"address\": \"屏東縣 屏東市\",\n",
            "        \"url\": \"https://wepet.tw/領養資訊-220815042527501012265\",\n",
            "        \"image_url\": \"https://wepet.tw/storage/adopt/adopt_220815042527501012265_477608727.jpg\",\n",
            "        \"location\": \"南部\",\n",
            "        \"details\": \"小橘子是朋友在屋頂撿到的浪浪，原本要幫牠找中途，但我接手後我就去北部工作，小橘子也跟我一起去，所以沒有馬上幫牠找中途及領養人。,目前沒有結紮，若有找到適合的領養人，我會帶牠去結紮，因為是浪浪比較沒有安全感，看到有人出現會叫，希望您能包容小橘子的沒安全感。,領養人需定期追蹤，時間約一個月至三個月左右，請拍拍橘子的日常照片或影片即可，不會過度打擾您。,若您是高雄/屏東我們可以約地點親送過去給您，或是愛媽願意中途也歡迎，希望您給橘子一個溫暖的家。\",\n",
            "        \"image_name\": \"adopt_220815042527501012265_477608727.jpg\"\n",
            "    },\n",
            "    {\n",
            "        \"id\": 119,\n",
            "        \"name\": \"Lucky\",\n",
            "        \"species\": \"三花貓\",\n",
            "        \"type\": \"貓\",\n",
            "        \"gender\": \"母貓\",\n",
            "        \"size\": \"中型\",\n",
            "        \"cat_color\": \"三色貓(白棕黑)\",\n",
            "        \"age\": \"成貓\",\n",
            "        \"sterilization\": \"已結紮\",\n",
            "        \"address\": \"台中市 北區\",\n",
            "        \"url\": \"https://wepet.tw/領養資訊-230714164940225813661\",\n",
            "        \"image_url\": \"https://wepet.tw/storage/adopt/adopt_230714164940225813661_9041824580.jpg\",\n",
            "        \"location\": \"中部\",\n",
            "        \"details\": \"LUCKY是一隻比較地域性較強的貓,不挑食，都吃乾乾，,主動親人，喜歡靠在人身邊，,跟環境適應期比較長，不會咬人，,要有心理準備會掉毛，已結紮不會亂尿，,不建議以下幾點的人認養：,1.住在公寓 半夜叫可能會影響鄰居,2.家人不喜歡會亂叫的貓,3.沒有耐心照顧貓的人,4.不關籠不遛貓,5.窗戶防護要先做好,因身體是過敏因素無法繼續照顧牠，,希望找到好人家繼續照顧牠。,,因工作較無法接聽電話，,如果有意原領養者，可留下聯繫方式。\",\n",
            "        \"image_name\": \"adopt_230714164940225813661_9041824580.jpg\"\n",
            "    },\n",
            "    {\n",
            "        \"id\": 262,\n",
            "        \"name\": \"糰子\",\n",
            "        \"species\": \"NULL\",\n",
            "        \"type\": \"貓\",\n",
            "        \"gender\": \"公貓\",\n",
            "        \"size\": \"小型\",\n",
            "        \"cat_color\": \"橘白\",\n",
            "        \"age\": \"成貓\",\n",
            "        \"sterilization\": \"已結紮\",\n",
            "        \"address\": \"彰化縣 鹿港鎮\",\n",
            "        \"url\": \"https://wepet.tw/領養資訊-230531140535438213455\",\n",
            "        \"image_url\": \"https://wepet.tw/storage/adopt/adopt_230531140535438213455_7964813135.jpg\",\n",
            "        \"location\": \"中部\",\n",
            "        \"details\": \"個性：膽小、親人（有時警戒的時候會有攻擊性）,年紀：108年生的，目前快四歲,體重：約4公斤,健康：無愛滋、無白血已、完成預防針接種,附嫁妝：飼料跟貓砂、貓砂盆,如有意願者可加Line聯繫：ruby_0828\",\n",
            "        \"image_name\": \"adopt_230531140535438213455_7964813135.jpg\"\n",
            "    }\n",
            "]\n"
          ]
        }
      ]
    }
  ]
}